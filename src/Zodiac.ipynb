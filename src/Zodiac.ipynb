{
  "nbformat": 4,
  "nbformat_minor": 0,
  "metadata": {
    "kernelspec": {
      "display_name": "Python 3",
      "language": "python",
      "name": "python3"
    },
    "language_info": {
      "codemirror_mode": {
        "name": "ipython",
        "version": 3
      },
      "file_extension": ".py",
      "mimetype": "text/x-python",
      "name": "python",
      "nbconvert_exporter": "python",
      "pygments_lexer": "ipython3",
      "version": "3.6.10"
    },
    "colab": {
      "name": "z.ipynb",
      "provenance": []
    }
  },
  "cells": [
    {
      "cell_type": "markdown",
      "metadata": {
        "id": "iap0cqPfjCNv"
      },
      "source": [
        "\n",
        "Importing Necessary Packages"
      ]
    },
    {
      "cell_type": "code",
      "metadata": {
        "id": "RTzx8UH1jCNw"
      },
      "source": [
        "import numpy as np\n",
        "import pandas as pd"
      ],
      "execution_count": 1,
      "outputs": []
    },
    {
      "cell_type": "markdown",
      "metadata": {
        "id": "5EnEP5NDjCNz"
      },
      "source": [
        "Loading the dataset"
      ]
    },
    {
      "cell_type": "code",
      "metadata": {
        "id": "ws_fwLbTjCNz"
      },
      "source": [
        "df=pd.read_csv(\"suspect_times.csv\")"
      ],
      "execution_count": 2,
      "outputs": []
    },
    {
      "cell_type": "markdown",
      "metadata": {
        "id": "nE4wKY9KjCN1"
      },
      "source": [
        "DataFrame.head() would return first five rows the dataset"
      ]
    },
    {
      "cell_type": "code",
      "metadata": {
        "id": "-lMKoSkFjCN2",
        "outputId": "7e81e8f9-f1da-4976-fef6-e2bb648ad3e6",
        "colab": {
          "base_uri": "https://localhost:8080/",
          "height": 195
        }
      },
      "source": [
        "df.head()"
      ],
      "execution_count": 3,
      "outputs": [
        {
          "output_type": "execute_result",
          "data": {
            "text/html": [
              "<div>\n",
              "<style scoped>\n",
              "    .dataframe tbody tr th:only-of-type {\n",
              "        vertical-align: middle;\n",
              "    }\n",
              "\n",
              "    .dataframe tbody tr th {\n",
              "        vertical-align: top;\n",
              "    }\n",
              "\n",
              "    .dataframe thead th {\n",
              "        text-align: right;\n",
              "    }\n",
              "</style>\n",
              "<table border=\"1\" class=\"dataframe\">\n",
              "  <thead>\n",
              "    <tr style=\"text-align: right;\">\n",
              "      <th></th>\n",
              "      <th>Name</th>\n",
              "      <th>Occupation</th>\n",
              "      <th>Time.Spotted</th>\n",
              "    </tr>\n",
              "  </thead>\n",
              "  <tbody>\n",
              "    <tr>\n",
              "      <th>0</th>\n",
              "      <td>Mary Martin</td>\n",
              "      <td>actress</td>\n",
              "      <td>2018-01-29 12:41:00</td>\n",
              "    </tr>\n",
              "    <tr>\n",
              "      <th>1</th>\n",
              "      <td>Woody Allen</td>\n",
              "      <td>director</td>\n",
              "      <td>2018-07-23 04:42:30</td>\n",
              "    </tr>\n",
              "    <tr>\n",
              "      <th>2</th>\n",
              "      <td>Lou Rawls</td>\n",
              "      <td>singer</td>\n",
              "      <td>2018-02-01 10:18:10</td>\n",
              "    </tr>\n",
              "    <tr>\n",
              "      <th>3</th>\n",
              "      <td>Lee Trevino</td>\n",
              "      <td>PGA golfer</td>\n",
              "      <td>2018-12-20 03:46:00</td>\n",
              "    </tr>\n",
              "    <tr>\n",
              "      <th>4</th>\n",
              "      <td>Richard Pryor</td>\n",
              "      <td>actor</td>\n",
              "      <td>2018-03-21 18:21:20</td>\n",
              "    </tr>\n",
              "  </tbody>\n",
              "</table>\n",
              "</div>"
            ],
            "text/plain": [
              "             Name   Occupation         Time.Spotted\n",
              "0     Mary Martin      actress  2018-01-29 12:41:00\n",
              "1     Woody Allen     director  2018-07-23 04:42:30\n",
              "2       Lou Rawls       singer  2018-02-01 10:18:10\n",
              "3     Lee Trevino   PGA golfer  2018-12-20 03:46:00\n",
              "4   Richard Pryor        actor  2018-03-21 18:21:20"
            ]
          },
          "metadata": {
            "tags": []
          },
          "execution_count": 3
        }
      ]
    },
    {
      "cell_type": "markdown",
      "metadata": {
        "id": "oJxiUA9mjCN4"
      },
      "source": [
        "Checking the column values datatype, for further calculations"
      ]
    },
    {
      "cell_type": "code",
      "metadata": {
        "id": "_OfgnWwejCN5",
        "outputId": "3958fb94-2e5a-413e-a3da-d5ca90a606a1"
      },
      "source": [
        "datatype=df.dtypes\n",
        "print(datatype)"
      ],
      "execution_count": null,
      "outputs": [
        {
          "output_type": "stream",
          "text": [
            "Name            object\n",
            "Occupation      object\n",
            "Time.Spotted    object\n",
            "dtype: object\n"
          ],
          "name": "stdout"
        }
      ]
    },
    {
      "cell_type": "markdown",
      "metadata": {
        "id": "snTtkCRGjCN6"
      },
      "source": [
        "Convert Time.Spotted from String object to DateTime object"
      ]
    },
    {
      "cell_type": "code",
      "metadata": {
        "id": "vlaHlMcTjCN7"
      },
      "source": [
        "#Enter code below(note the dtype changed should reflect in the initial dataset)"
      ],
      "execution_count": null,
      "outputs": []
    },
    {
      "cell_type": "code",
      "metadata": {
        "id": "s2CNgie0jCN9",
        "outputId": "4160785a-11ae-4eac-c2de-a0ceb5af7e2a",
        "colab": {
          "base_uri": "https://localhost:8080/",
          "height": 286
        }
      },
      "source": [
        "from datetime import datetime\n",
        "z=df.iloc[:,2]\n",
        "print(z)\n",
        "z1=[]\n",
        "for i in z:\n",
        "  i= datetime.strptime(i, '%Y-%m-%d %H:%M:%S')\n",
        "  z1.append(obj)\n",
        "''' Initially timespotted column exctracted and each value is seperately converted into \n",
        "datetime object and stored in a list\n",
        "The list then replaces the column timespotted in our dataframe'''\n",
        "df[\"Time.Spotted\"].replace(z1, inplace=True)\n",
        "datatype=df.dtypes\n",
        "print(datatype)"
      ],
      "execution_count": 18,
      "outputs": [
        {
          "output_type": "stream",
          "text": [
            "0      2018-01-29 12:41:00\n",
            "1      2018-07-23 04:42:30\n",
            "2      2018-02-01 10:18:10\n",
            "3      2018-12-20 03:46:00\n",
            "4      2018-03-21 18:21:20\n",
            "              ...         \n",
            "209    2018-03-26 00:37:20\n",
            "210    2018-12-19 04:15:20\n",
            "211    2018-02-04 20:29:50\n",
            "212    2018-12-23 17:59:40\n",
            "213    2018-06-25 09:15:50\n",
            "Name: Time.Spotted, Length: 214, dtype: object\n",
            "Name            object\n",
            "Occupation      object\n",
            "Time.Spotted    object\n",
            "dtype: object\n"
          ],
          "name": "stdout"
        }
      ]
    }
  ]
}